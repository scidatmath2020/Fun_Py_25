{
 "cells": [
  {
   "cell_type": "markdown",
   "id": "2e279489-5f30-4c7a-aa50-22ec3ec26c78",
   "metadata": {},
   "source": [
    "![imagenes](logo.png)"
   ]
  },
  {
   "cell_type": "markdown",
   "id": "dcf4e241-a132-4251-9d77-681b02c93cf3",
   "metadata": {},
   "source": [
    "# Tarea 05: Funciones\n",
    "\n",
    "A continuación se presentan 10 ejercicios diseñados para practicar funciones en Python con un enfoque más lógico y menos matemático.\n",
    "\n",
    "---\n",
    "\n",
    "## Ejercicio 1: Censurar palabras prohibidas\n",
    "\n",
    "Crea una función `censurar(texto, prohibidas)` que reemplace cada palabra en la lista `prohibidas` dentro del texto por asteriscos (***), manteniendo las demás palabras intactas.\n",
    "\n",
    "---\n",
    "\n",
    "## Ejercicio 2: Formato de título limpio\n",
    "\n",
    "Crea una función `formato_titulo(titulo)` que reciba una cadena de texto y devuelva el mismo texto con las siguientes reglas:\n",
    "- Todas las palabras con la primera letra en mayúscula.\n",
    "- Espacios extra eliminados.\n",
    "\n",
    "---\n",
    "\n",
    "## Ejercicio 3: Palabras únicas\n",
    "\n",
    "Escribe una función `palabras_unicas(texto)` que reciba un texto y devuelva una lista con todas las palabras únicas que contiene, en minúsculas.\n",
    "\n",
    "---\n",
    "\n",
    "## Ejercicio 4: Buscar usuario por correo\n",
    "\n",
    "Crea una función `buscar_usuario(usuarios, correo)` que reciba una lista de diccionarios con claves `\"nombre\"` y `\"email\"`, y un correo a buscar.  \n",
    "La función debe devolver el nombre del usuario si se encuentra, o `None` si no.\n",
    "\n",
    "---\n",
    "\n",
    "## Ejercicio 5: Dividir lista en bloques\n",
    "\n",
    "Crea una función `dividir_en_bloques(lista, tam)` que divida una lista en sublistas de longitud `tam`. La última sublista puede tener menos elementos si no alcanza el tamaño indicado.\n",
    "\n",
    "---\n",
    "\n",
    "## Ejercicio 6: Normalizar nombres\n",
    "\n",
    "Crea una función `normalizar_nombres(lista_nombres)` que reciba una lista de nombres desordenados (con mayúsculas mal colocadas, espacios extras, etc.) y devuelva una lista con nombres corregidos, en el formato: `\"Nombre Apellido\"`.\n",
    "\n",
    "---\n",
    "\n",
    "## Ejercicio 7: Extraer hashtags\n",
    "\n",
    "Crea una función `extraer_hashtags(texto)` que reciba una cadena de texto y devuelva una lista con todas las palabras que comienzan con el símbolo `#`, sin incluir el símbolo en el resultado.\n",
    "\n",
    "---\n",
    "\n",
    "## Ejercicio 8: Validar contraseña\n",
    "\n",
    "Crea una función `es_contrasena_valida(clave)` que determine si una cadena es una contraseña válida. La contraseña debe cumplir:\n",
    "- Tener al menos 8 caracteres.\n",
    "- Contener al menos una letra mayúscula.\n",
    "- Contener al menos un número.\n",
    "- Contener al menos un símbolo especial (como `!@#$%`).\n",
    "\n",
    "---\n",
    "\n",
    "## Ejercicio 9: Historial de comandos\n",
    "\n",
    "Escribe una función `historial_comandos(comandos)` que reciba una lista de comandos y devuelva un resumen en forma de diccionario con:\n",
    "- El total de comandos.\n",
    "- El número de comandos únicos.\n",
    "- El comando que más veces se repite.\n",
    "\n",
    "---\n"
   ]
  }
 ],
 "metadata": {
  "kernelspec": {
   "display_name": "Python [conda env:base] *",
   "language": "python",
   "name": "conda-base-py"
  },
  "language_info": {
   "codemirror_mode": {
    "name": "ipython",
    "version": 3
   },
   "file_extension": ".py",
   "mimetype": "text/x-python",
   "name": "python",
   "nbconvert_exporter": "python",
   "pygments_lexer": "ipython3",
   "version": "3.12.3"
  }
 },
 "nbformat": 4,
 "nbformat_minor": 5
}
