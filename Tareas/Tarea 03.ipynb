{
 "cells": [
  {
   "cell_type": "markdown",
   "id": "df91e21a-260d-4c71-8037-4cdaf9c0ffa0",
   "metadata": {},
   "source": [
    "![imagenes](logo.png)"
   ]
  },
  {
   "cell_type": "markdown",
   "id": "23563618-2562-4fd8-8da8-3b96bd6eb58c",
   "metadata": {},
   "source": [
    "# Tarea 03. Bucles For\n",
    "\n",
    "Resuelve cada uno de los ejercicios siguientes.\n",
    "\n",
    "1. Imprimir los números entre el 5 y el 20, saltando de tres en tres.\n",
    "\n",
    "2. Requerir al usuario que ingrese un número entero positivo e imprimir todos los números correlativos entre el ingresado por el usuario y uno menos del doble del mismo.\n",
    "\n",
    "**Ejemplo.**  \n",
    "Si el usuario ingresa 5, entonces el doble de 5 menos 1 es 9 y por lo tanto el programa debe arrojar:  \n",
    "\n",
    "5  \n",
    "6  \n",
    "7  \n",
    "8  \n",
    "9  \n",
    "\n",
    "3. Escribir un programa que solicite al usuario una cantidad y luego itere la cantidad de veces dada. En cada iteración, solicitar al usuario que ingrese un número. Al finalizar, mostrar la suma de todos los números ingresados.\n",
    "\n",
    "**Ejemplo.**  \n",
    "Ingresa una cantidad: 3  \n",
    "Ingresa un número: 2  \n",
    "Ingresa un número: 6  \n",
    "Ingresa un número: 15  \n",
    "La suma de los 3 números ingresados es 2+6+15=23.  \n",
    "\n",
    "---\n",
    "\n",
    "4. Solicitar al usuario que ingrese una frase y luego imprimir un listado de las vocales que aparecen en esa frase (sin repetirlas).\n",
    "\n",
    "**Ejemplo.**  \n",
    "Ingresa una frase: Hoy es un buen día  \n",
    "Las vocales en la frase ‘Hoy es un buen día’ son a,e,i,o,u.  \n",
    "\n",
    "5. Solicitar al usuario que ingrese una frase y luego imprimir cuántas veces aparece cada letra del alfabeto en ella.\n",
    "\n",
    "**Ejemplo.**  \n",
    "Ingresa una frase: Hoy es un buen día  \n",
    "a aparece 1  \n",
    "b aparece 1  \n",
    "d aparece 1  \n",
    "e aparece 2  \n",
    "h aparece 1  \n",
    "i aparece 1  \n",
    "n aparece 1  \n",
    "o aparece 1  \n",
    "s aparece 1  \n",
    "u aparece 1  \n",
    "\n",
    "---\n",
    "\n",
    "6. Un grupo de amigos decide organizar un juego de estrategia, para lo cual forman dos equipos de 6 integrantes cada uno, donde un integrante de cada equipo es el jefe y los otros 5 son sus oficiales. Deben buscar la forma de ocultar el contenido de sus mensajes. Uno de los equipos decide utilizar un método antiguo de encriptación llamado «la cifra del césar», que consiste en correr cada letra del mensaje considerando la posición de cada una en el alfabeto una determinada cantidad de lugares. Ejemplo: si el corrimiento es de 2 lugares, la palabra «ATAQUE» se transforma en «CVCSWG».\n",
    "\n",
    "Cada día, el jefe del equipo debe enviar un mensaje a cada uno de sus oficiales. Escribir un programa que permita encriptar los 5 mensajes. El corrimiento (cantidad de lugares que se correrán las letras) será dado por el usuario antes de comenzar a encriptar. Los 5 mensajes usarán el mismo corrimiento.\n",
    "\n",
    "**Nota:**  \n",
    "Si el alfabeto termina antes de poder correr la cantidad de lugares necesarios, se vuelve a comenzar desde la letra «a». Ejemplo: la palabra «EXTRA» corrida 3 lugares se convierte en «HAWUD». Utilizando el alfabeto español, de 27 letras, el siguiente cálculo matemático permite volver a comenzar por el principio una vez que se llegó a la «z»:  \n",
    "`(índice de la letra a correr + corrimiento) % 27`  \n",
    "\n",
    "Sólo se encriptarán las letras de los mensajes, dejando al resto de caracteres sin modificación."
   ]
  }
 ],
 "metadata": {
  "kernelspec": {
   "display_name": "Python [conda env:base] *",
   "language": "python",
   "name": "conda-base-py"
  },
  "language_info": {
   "codemirror_mode": {
    "name": "ipython",
    "version": 3
   },
   "file_extension": ".py",
   "mimetype": "text/x-python",
   "name": "python",
   "nbconvert_exporter": "python",
   "pygments_lexer": "ipython3",
   "version": "3.12.3"
  }
 },
 "nbformat": 4,
 "nbformat_minor": 5
}
