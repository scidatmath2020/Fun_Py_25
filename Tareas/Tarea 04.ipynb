{
 "cells": [
  {
   "cell_type": "markdown",
   "id": "34acd1ee-a03d-4ecd-9ac8-fd1f99dc3550",
   "metadata": {},
   "source": [
    "![imagenes](logo.png)"
   ]
  },
  {
   "cell_type": "markdown",
   "id": "3d3be997",
   "metadata": {},
   "source": [
    "\n",
    "# Tarea 04. Listas\n",
    "\n",
    "Resuelve cada uno de los ejercicios siguientes.\n"
   ]
  },
  {
   "cell_type": "markdown",
   "id": "88d8fd3c",
   "metadata": {},
   "source": [
    "1. Crear una lista de enteros del 1 al 20 e imprimir solo los números pares.\n",
    "   \n",
    "*Tip:* Usa un bucle `for` y el operador módulo `%`."
   ]
  },
  {
   "cell_type": "markdown",
   "id": "ba00955e",
   "metadata": {},
   "source": [
    "2. Dada la lista `nombres = [\"Ana\", \"Luis\", \"Pedro\", \"Laura\", \"Carlos\"]`, imprime solo los nombres que tienen más de 4 letras."
   ]
  },
  {
   "cell_type": "markdown",
   "id": "e34a12ac",
   "metadata": {},
   "source": [
    "3. Usa una lista por comprensión para crear una nueva lista con los cuadrados de los números del 1 al 10."
   ]
  },
  {
   "cell_type": "markdown",
   "id": "d034a2de",
   "metadata": {},
   "source": [
    "4. Escribe un programa que lea números enteros del usuario hasta que escriba `0`. Guarda todos los números en una lista y luego imprime la suma total."
   ]
  },
  {
   "cell_type": "markdown",
   "id": "594dbd80",
   "metadata": {},
   "source": [
    "5. Crea una lista con las palabras de una frase. Luego, imprime solo las palabras que empiezan con vocal.\n",
    "```python\n",
    "frase = \"El árbol enorme oculta un iglú abandonado\"\n",
    "```"
   ]
  },
  {
   "cell_type": "markdown",
   "id": "54047b86",
   "metadata": {},
   "source": [
    "6. Dada una lista de números, crea una lista con los elementos que son mayores al promedio. Por ejemplo, si la lista es ``mi_lista = [2, 6, 1, -3, 8, 90, 3.4, 62]``, debe devolver ``[90, 62]``\n"
   ]
  },
  {
   "cell_type": "markdown",
   "id": "16d6ddb6",
   "metadata": {},
   "source": [
    "7. Dada la lista `precios = [120, 340, 560, 200, 150]`, usa una lista por comprensión para crear una nueva lista que contenga los precios con un 10% de descuento."
   ]
  },
  {
   "cell_type": "markdown",
   "id": "e70765f0",
   "metadata": {},
   "source": [
    "8. Dada la lista de nombres\n",
    "```Python\n",
    "nombres = [\n",
    "    \"Ana\", \"LUIS\", \"Carlos\", \"MARIO\", \"Lucía\",\n",
    "    \"fernando\", \"PATRICIA\", \"Sofía\", \"JORGE\", \"Valeria\",\n",
    "    \"RAÚL\", \"camila\", \"JAVIER\", \"Elena\", \"MIGUEL\",\n",
    "    \"andrea\", \"DAVID\", \"Roberto\", \"INES\", \"sergio\"]\n",
    "```\n",
    "usa un bucle `while` para recorrerla e imprimir cada nombre en orden inverso."
   ]
  },
  {
   "cell_type": "markdown",
   "id": "9aa1c31b",
   "metadata": {},
   "source": [
    "9. Dada la lista de nombres\n",
    "```Python\n",
    "nombres = [\n",
    "    \"Ana\", \"LUIS\", \"Carlos\", \"MARIO\", \"Lucía\",\n",
    "    \"fernando\", \"PATRICIA\", \"Sofía\", \"JORGE\", \"Valeria\",\n",
    "    \"RAÚL\", \"camila\", \"JAVIER\", \"Elena\", \"MIGUEL\",\n",
    "    \"andrea\", \"DAVID\", \"Roberto\", \"INES\", \"sergio\"]\n",
    "```\n",
    "\n",
    "crea una nueva lista que contenga únicamente los nombres que estén escritos mayúsculas."
   ]
  },
  {
   "cell_type": "markdown",
   "id": "d751e9b6",
   "metadata": {},
   "source": [
    "10. Escribe un programa que verifique si una palabra dada por el usuario está en una lista. Si está, imprime “Encontrado”; si no, imprime “No está en la lista” (tú puedes definir tu propia lista)."
   ]
  }
 ],
 "metadata": {
  "kernelspec": {
   "display_name": "Python [conda env:base] *",
   "language": "python",
   "name": "conda-base-py"
  },
  "language_info": {
   "codemirror_mode": {
    "name": "ipython",
    "version": 3
   },
   "file_extension": ".py",
   "mimetype": "text/x-python",
   "name": "python",
   "nbconvert_exporter": "python",
   "pygments_lexer": "ipython3",
   "version": "3.12.3"
  }
 },
 "nbformat": 4,
 "nbformat_minor": 5
}
