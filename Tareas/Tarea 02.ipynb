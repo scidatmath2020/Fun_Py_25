{
 "cells": [
  {
   "cell_type": "markdown",
   "id": "7f69a582-7c2a-431c-98b7-d8036dbe9279",
   "metadata": {},
   "source": [
    "![imagenes](logo.png)"
   ]
  },
  {
   "cell_type": "markdown",
   "id": "8a7ac644-9a85-4a34-aaf7-f1ffa39e8023",
   "metadata": {},
   "source": [
    "# Tarea 02. Bucles while\n",
    "\n",
    "Resuelve cada uno de los ejercicios siguientes.\n",
    "\n",
    "1. Escriba un programa que solicite una nueva contraseña (el texto de la contraseña no es importante) y la vuelva a solicitar para confirmarla hasta que las dos contraseñas coincidan, con un límite de tres peticiones (es decir, algo como cuando creas una contraseña de un correo, donde te piden la contraseña y luego debes volverla a escribir para verificar que coincida con la primera que escribiste).\n",
    "\n",
    "2. Leer números enteros de teclado, hasta que el usuario ingrese el 0. Finalmente, mostrar la sumatoria de todos los números ingresados.\n",
    "\n",
    "3. Leer números enteros de teclado, hasta que el usuario ingrese el 0. Finalmente, mostrar la sumatoria de todos los números positivos ingresados.\n",
    "\n",
    "4. Solicitar al usuario el ingreso de una frase y de una letra (que puede o no estar en la frase). Recorrer la frase, carácter a carácter, comparando con la letra buscada. Si el carácter no coincide, indicar que no hay coincidencia en esa posición (imprimiendo la posición) y continuar. Si se encuentra una coincidencia, indicar en qué posición se encontró y finalizar la ejecución.\n",
    "\n",
    "---\n",
    "\n",
    "5. Crear un programa que permita al usuario ingresar los montos de las compras de un cliente (se desconoce la cantidad de datos que cargará, la cual puede cambiar en cada ejecución), cortando el ingreso de datos cuando el usuario ingrese el monto 0. Si ingresa un monto negativo, no se debe procesar y se debe pedir que ingrese un nuevo monto. Al finalizar, informar el total a pagar teniendo que cuenta que, si las ventas superan el total de $1000, se le debe aplicar un 10 % de descuento.\n",
    "\n",
    "6. Crear un programa que permita al usuario ingresar títulos de libros por teclado, finalizando el ingreso al leerse el string «*» (asterisco). Cada vez que el usuario ingrese un string de longitud 1 que contenga sólo una barra («/») se considera que termina una línea. Por cada línea completa, informar cuántos dígitos numéricos (del 0 al 9) aparecieron en total (en todos los títulos de libros que componen en esa línea). Finalmente, informar cuántas líneas completas se ingresaron.\n",
    "\n",
    "**Ejemplo de ejecución:**  \n",
    "Libro: Los 3 mosqueteros  \n",
    "Libro: Historia de 2 ciudades  \n",
    "Libro: /  \n",
    "Línea completa. Aparecen 2 dígitos numéricos.  \n",
    "Libro: 20000 leguas de viaje submarino  \n",
    "Libro: El señor de los anillos  \n",
    "Libro: /  \n",
    "Línea completa. Aparecen 5 dígitos numéricos.  \n",
    "Libro: 20 años después  \n",
    "Libro: *  \n",
    "Fin. Se leyeron 2 líneas completas.  "
   ]
  }
 ],
 "metadata": {
  "kernelspec": {
   "display_name": "Python [conda env:base] *",
   "language": "python",
   "name": "conda-base-py"
  },
  "language_info": {
   "codemirror_mode": {
    "name": "ipython",
    "version": 3
   },
   "file_extension": ".py",
   "mimetype": "text/x-python",
   "name": "python",
   "nbconvert_exporter": "python",
   "pygments_lexer": "ipython3",
   "version": "3.12.3"
  }
 },
 "nbformat": 4,
 "nbformat_minor": 5
}
