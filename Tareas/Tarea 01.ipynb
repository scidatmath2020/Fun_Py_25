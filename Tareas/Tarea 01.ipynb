{
 "cells": [
  {
   "cell_type": "markdown",
   "id": "47bd5e09-e785-4946-9846-efe29443efc8",
   "metadata": {},
   "source": [
    "![imagenes](logo.png)"
   ]
  },
  {
   "cell_type": "markdown",
   "id": "abfb6b53-81f3-43dd-9641-bfb90d65266d",
   "metadata": {},
   "source": [
    "# Tarea 01. Tipos de Datos y Condicionales en Python\n",
    "\n",
    "Recuerda que debes publicar foto de cada uno de tus códigos en nuestro foro: https://www.facebook.com/groups/2476414855808297"
   ]
  },
  {
   "cell_type": "markdown",
   "id": "af739aa1-b7a8-4518-a271-88a8818ce22f",
   "metadata": {},
   "source": [
    "A continuación se presentan 15 ejercicios organizados por nivel de dificultad. Todos están diseñados para practicar:\n",
    "\n",
    "- Conversión de tipos `int`, `float`\n",
    "- Métodos y atributos de `str`\n",
    "- Condicionales (`if`, `if...else`, `if...elif...else`, condicionales anidados)\n",
    "\n",
    "**Nota:** No se utilizan listas, bucles ni otras estructuras no vistas.\n",
    "\n",
    "---"
   ]
  },
  {
   "cell_type": "markdown",
   "id": "6c04c67a-94f7-4532-8cbf-755d6c86137a",
   "metadata": {},
   "source": [
    "### 🟢 Nivel Fácil\n",
    "\n",
    "#### 1. Par o impar\n",
    "Pide un número entero al usuario e indica si es par o impar.\n",
    "\n",
    "<img src=\"imt001.png\" style=\"display:block; margin:auto;\" width=\"300\">"
   ]
  },
  {
   "cell_type": "markdown",
   "id": "a5192db6-17c9-4745-ba8b-989c39c7fe09",
   "metadata": {},
   "source": [
    "#### 2. Edad mínima\n",
    "Pregunta la edad del usuario e indica si es mayor o menor de edad.\n",
    "\n",
    "<img src=\"imt002.png\" style=\"display:block; margin:auto;\" width=\"500\">"
   ]
  },
  {
   "cell_type": "markdown",
   "id": "f0f21f89-393f-4136-8c32-cfc7270576a1",
   "metadata": {},
   "source": [
    "#### 3. Saludo personalizado\n",
    "Pide el nombre del usuario. Si comienza con \"A\" (mayúscula), da un saludo especial. Si no, da un saludo normal.\n",
    "\n",
    "**Sugerencia:** el saludo especial debe ser efusivo. El saludo normal es un saludo frío."
   ]
  },
  {
   "cell_type": "markdown",
   "id": "9101fc92-5ede-4619-a6f6-deebdc083399",
   "metadata": {},
   "source": [
    "#### 4. Tipo de número\n",
    "Pide un número y muestra si es positivo, negativo o cero.\n",
    "\n",
    "**Sugerencia:** una estructura ``if...elif...else`` puede ser útil. Además toma en cuenta para el ``input`` que el número no necesariamente es entero, por lo cual se pueden admitir números decimales."
   ]
  },
  {
   "cell_type": "markdown",
   "id": "7858127d-840c-493b-824f-781519e347a3",
   "metadata": {},
   "source": [
    "#### 5. ¿Es un número entero válido?\n",
    "Pide un texto. Si representa un número entero (`.isdigit()`), conviértelo a entero y muestra el doble. Si no, indica que no es válido.\n",
    "\n",
    "**Sugerencia.** Recuerda que el input siempre regresa strings. El ``.isdigit()`` te servirá para validar un ``if...else``. En caso de entrar al ``if``, ahí es donde debes convertir a número y luego multiplicar por dos."
   ]
  },
  {
   "cell_type": "markdown",
   "id": "e1f004fe-ebe3-4ca0-81a6-15a00ca0183b",
   "metadata": {},
   "source": [
    "### 🟡 Nivel Medio\n",
    "\n",
    "#### 6. Clasificación por edad\n",
    "Pide la edad y clasifica:\n",
    "- Menor de 13: \"Niñez\"\n",
    "- 13 a 17: \"Adolescencia\"\n",
    "- 18 a 59: \"Adultez\"\n",
    "- 60 o más: \"Adulto mayor\"\n",
    "\n",
    "**Sugerencia:** estas se tratan de composiciones de componentes lógicas. El ser menor a 13 significa ``edad < 13``. El 13 a 17 significa ``13 <= edad and edad <= 17``; etc. "
   ]
  },
  {
   "cell_type": "markdown",
   "id": "df082640-6db2-45ad-bfe6-5706d73c0fd9",
   "metadata": {},
   "source": [
    "#### 7. Contraseña secreta\n",
    "Pide una contraseña. Si es \"Python123\" (respetando mayúsculas), muestra \"Acceso concedido\". Si no, \"Acceso denegado\"."
   ]
  },
  {
   "cell_type": "markdown",
   "id": "9a61d068-90cf-4b64-b0a5-3e6a8f907d74",
   "metadata": {},
   "source": [
    "#### 8. Calificación escolar\n",
    "Pide una calificación de 0 a 10. Si es 6 o más: \"Aprobado\". Si es menor de 6: \"Reprobado\"."
   ]
  },
  {
   "cell_type": "markdown",
   "id": "0864d80e-45f1-48d0-8e10-14e119b730db",
   "metadata": {},
   "source": [
    "#### 9. Verificador de mayúsculas\n",
    "Pide una palabra:\n",
    "- Si está toda en mayúsculas, imprime \"GRITANDO\"\n",
    "- Si está en minúsculas, imprime \"Susurrando\"\n",
    "- Si está mezclada, imprime \"Normal\""
   ]
  },
  {
   "cell_type": "markdown",
   "id": "ad374c9d-46cc-4be7-b564-5a662768c510",
   "metadata": {},
   "source": [
    "#### 10. Comparador de dos números\n",
    "Pide dos números enteros. Indica cuál es mayor o si son iguales.\n",
    "\n",
    "**Sugerencia:** es decir, si ``num1 < num2``, imprime ``num2``; si ``num1 > num2`` imprime ``num1``; en otro caso, imprime ``num1 y num2 son iguales``. Para este último caso, sería elegante el uso de f-strings."
   ]
  },
  {
   "cell_type": "markdown",
   "id": "d6467c94-5e75-4060-b55e-0e354b02d4c2",
   "metadata": {},
   "source": [
    "### 🔴 Nivel Difícil\n",
    "\n",
    "#### 11. Verificador de año bisiesto (sin `%`)\n",
    "Pide un año. Si es divisible entre 4 y (no entre 100 o sí entre 400), es bisiesto."
   ]
  },
  {
   "cell_type": "markdown",
   "id": "52c3acc8-2c7a-43f9-85d7-b85c4fcbcfbe",
   "metadata": {},
   "source": [
    "#### 12. Detector de palíndromos simples\n",
    "Pide una frase. Verifica si es igual al revés. \n",
    "\n",
    "**Sugerencia:** Recuerda el uso de ``[::-1]`` para invertir colecciones ordenadas (por ejemplo, ``\"Hola\"[::-1]`` da como resultado ``\"aloH\"``. Pero ten mucho cuidado: ``\"Ana\"[::-1]`` es ``anA`` y por lo tanto Ana y anA serían diferentes aunque **Ana** sí es considerado palíndromo. Entonces, toma en cuenta que:\n",
    "\n",
    "- A los palíndromos no les interesan ni los acentos ni las mayúsculas ni minúsculas. Así que para verificar que algo es un palíndromo, primero asegúrate de limpiar sus caracteres con acentos o diéresis, y de convertir la frase en minúsculas. Esa frase \"limpia\" es la que vas a querer comparar con su invertida.\n",
    "\n",
    "- A los palíndromos tampoco les interesan los espacios. Por lo tanto, una vez que limpias la frase, asegúrate de eliminar sus espacios.\n",
    "\n",
    "Por ejemplo, si la frase es **A mamá Roma le aviva el amor a mamá**, al limpiarla queda **a mama roma le aviva el amor a mama** y al eliminar los espacios queda **amamaromaleavivaelamoramama**. Lo que quieres ver es si esta última frase es igual al escribirla al revés."
   ]
  },
  {
   "cell_type": "markdown",
   "id": "83fc78c1-4e5a-4386-a7f4-7f2759595b45",
   "metadata": {},
   "source": [
    "#### 13. Clasificador de temperatura\n",
    "Pide una temperatura en Celsius. Clasifica como:\n",
    "- \"Congelado\" si < 0\n",
    "- \"Templado\" entre 0 y 25\n",
    "- \"Caluroso\" si > 25"
   ]
  },
  {
   "cell_type": "markdown",
   "id": "a94fb5df-45b2-487c-ac16-3227c3619af4",
   "metadata": {},
   "source": [
    "#### 14. Nombre válido y largo\n",
    "Pide un nombre:\n",
    "- Si no contiene solo letras, muestra \"Nombre inválido\"\n",
    "- Si es válido, clasifica su longitud:\n",
    "  - $< 5$: Nombre corto\n",
    "  - 5 a 8: Nombre promedio\n",
    "  - $> 8$: Nombre largo\n",
    "\n",
    "**Sugerencia.** *Quieres ver que el nombre contenga al menos una vocal*, en cuyo caso procedes a clasificar su longitud. Una estructura de **condicional andidad** es buena idea."
   ]
  },
  {
   "cell_type": "markdown",
   "id": "d77831d6-2b07-4227-9b80-d928381a4967",
   "metadata": {},
   "source": [
    "#### 15. Simulador de login básico\n",
    "Pide usuario y contraseña. Si el usuario es \"admin\" y la contraseña \"1234\", imprime \"Bienvenido administrador\". Si el usuario es correcto pero la contraseña no, imprime \"Contraseña incorrecta\". En cualquier otro caso, imprime \"Acceso denegado\".\n"
   ]
  }
 ],
 "metadata": {
  "kernelspec": {
   "display_name": "Python [conda env:base] *",
   "language": "python",
   "name": "conda-base-py"
  },
  "language_info": {
   "codemirror_mode": {
    "name": "ipython",
    "version": 3
   },
   "file_extension": ".py",
   "mimetype": "text/x-python",
   "name": "python",
   "nbconvert_exporter": "python",
   "pygments_lexer": "ipython3",
   "version": "3.12.3"
  }
 },
 "nbformat": 4,
 "nbformat_minor": 5
}
