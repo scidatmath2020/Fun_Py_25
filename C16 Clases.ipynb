{
 "cells": [
  {
   "cell_type": "markdown",
   "id": "8305490c-b2cc-4ee6-8851-8275cd22f6ab",
   "metadata": {},
   "source": [
    "![imagenes](logo.png)"
   ]
  },
  {
   "cell_type": "markdown",
   "id": "57fa4bff-7686-44a7-a111-e5dc969064a3",
   "metadata": {},
   "source": [
    "# Clases\n",
    "\n",
    "Supongamos que queremos representar un perro en Python. Podríamos usar un diccionario:\n",
    "\n",
    "```python\n",
    "firulais = {\n",
    "    \"nombre\": \"Firulais\",\n",
    "    \"edad\": 4,\n",
    "    \"hambre\": True,\n",
    "    \"energia\": 50\n",
    "}\n",
    "```"
   ]
  },
  {
   "cell_type": "markdown",
   "id": "1067f2cb-e3af-4220-ba35-fe466306323f",
   "metadata": {},
   "source": [
    "Pero este perro no puede hacer nada. No puede comer, ni dormir, ni jugar. Además, no es fácil asegurarnos de que su estado tenga sentido.\n",
    "\n",
    "Aquí es donde entra la POO: nos permite modelar objetos que tienen datos y también comportamientos.\n",
    "\n"
   ]
  },
  {
   "cell_type": "markdown",
   "id": "cc97af0d-92ef-494f-a89b-df5ee91b1e49",
   "metadata": {},
   "source": [
    "## Clases y objetos\n",
    "\n",
    "Una clase es una plantilla. Un objeto es una instancia creada a partir de esa plantilla.\n",
    "\n",
    "Este código crea una clase vacía y luego un objeto llamado ``firulais``. No tiene atributos ni comportamientos todavía.\n"
   ]
  },
  {
   "cell_type": "code",
   "execution_count": null,
   "id": "0e544b5c-22b8-4cb1-afbe-49365aae33f7",
   "metadata": {},
   "outputs": [],
   "source": [
    "# Creamos la clase Perro\n",
    "class Perro:\n",
    "    pass"
   ]
  },
  {
   "cell_type": "code",
   "execution_count": null,
   "id": "9b12777b-3c45-4fb9-a40c-1e67e4e0fca1",
   "metadata": {},
   "outputs": [],
   "source": [
    "# Creamos un perro desde la clase Perro, llamado firulais\n",
    "firulais = Perro()\n",
    "print(firulais)"
   ]
  },
  {
   "cell_type": "markdown",
   "id": "ee31b639-ac2f-45dd-9edc-8e7487909f49",
   "metadata": {},
   "source": [
    "## El método __init__\n",
    "\n",
    "Cuando creamos un objeto, podemos inicializarlo con datos específicos usando el método especial ``__init__``"
   ]
  },
  {
   "cell_type": "code",
   "execution_count": null,
   "id": "4cc94ae1-d81d-4429-892b-22267ca20a8d",
   "metadata": {},
   "outputs": [],
   "source": [
    "class Perro:\n",
    "    def __init__(self, nombre, edad):\n",
    "        self.nombre = nombre\n",
    "        self.edad = edad"
   ]
  },
  {
   "cell_type": "markdown",
   "id": "eb3c4740-cccb-4230-8cd3-5ea64af4f485",
   "metadata": {},
   "source": [
    "- ``__init__`` se llama automáticamente al crear el objeto.\n",
    "\n",
    "- ``self`` se refiere al objeto mismo.\n",
    "\n",
    "- Creamos atributos como self.nombre y self.edad."
   ]
  },
  {
   "cell_type": "code",
   "execution_count": null,
   "id": "2e5b288b-a94d-459f-80bd-8033da48bf5b",
   "metadata": {},
   "outputs": [],
   "source": [
    "firulais = Perro(\"Firulais\", 4)\n",
    "print(firulais.nombre)  # Firulais\n",
    "print(firulais.edad)    # 4"
   ]
  },
  {
   "cell_type": "markdown",
   "id": "d721c40d-031d-4e23-a9e0-76a91f29d421",
   "metadata": {},
   "source": [
    "## Métodos: acciones que puede realizar un objeto\n",
    "\n",
    "Un método es una función definida dentro de una clase. Describe lo que el objeto puede hacer."
   ]
  },
  {
   "cell_type": "code",
   "execution_count": null,
   "id": "933f4aba-2b98-4966-8448-86a29ac7d1ac",
   "metadata": {},
   "outputs": [],
   "source": [
    "class Perro:\n",
    "    def __init__(self, nombre, edad):\n",
    "        self.nombre = nombre\n",
    "        self.edad = edad\n",
    "    \n",
    "    def ladrar(self):\n",
    "        print(f\"{self.nombre} dice: ¡Guau!\")"
   ]
  },
  {
   "cell_type": "code",
   "execution_count": null,
   "id": "b4202529-98cb-45a6-a8df-574ff8a943d6",
   "metadata": {},
   "outputs": [],
   "source": [
    "firulais = Perro(\"Firulais\", 4)\n",
    "firulais.ladrar()  # Firulais dice: ¡Guau!"
   ]
  },
  {
   "cell_type": "markdown",
   "id": "8be30c38-6748-4579-8749-09785a9dd0cc",
   "metadata": {},
   "source": [
    "## Ejemplo completo: una clase con estado y comportamiento\n",
    "\n",
    "Vamos a crear una clase ``Perro`` más realista. Tendrá atributos internos como energía y hambre, y métodos que permitan modificar su estado."
   ]
  },
  {
   "cell_type": "code",
   "execution_count": null,
   "id": "ac7a255f-fb34-402c-8107-a89c2e919a9f",
   "metadata": {},
   "outputs": [],
   "source": [
    "class Perro:\n",
    "    def __init__(self, nombre, edad):\n",
    "        self.nombre = nombre\n",
    "        self.edad = edad\n",
    "        self.hambre = True\n",
    "        self.energia = 50\n",
    "        self.alimentos = {\n",
    "            \"croquetas\": 30,\n",
    "            \"pollo\": 40,\n",
    "            \"hueso\": 10,\n",
    "            \"sobras\": 20\n",
    "        }\n",
    "\n",
    "    def comer(self, alimento):\n",
    "        if not self.hambre:\n",
    "            print(f\"{self.nombre} no tiene hambre.\")\n",
    "            return\n",
    "\n",
    "        if alimento not in self.alimentos:\n",
    "            print(f\"{self.nombre} no quiere comer {alimento}.\")\n",
    "            return\n",
    "\n",
    "        energia_ganada = self.alimentos[alimento]\n",
    "        print(f\"{self.nombre} está comiendo {alimento} (+{energia_ganada} energía).\")\n",
    "        self.energia += energia_ganada\n",
    "        if self.energia > 100:\n",
    "            self.energia = 100\n",
    "        self.hambre = False\n",
    "\n",
    "    def jugar(self):\n",
    "        if self.energia >= 20:\n",
    "            print(f\"{self.nombre} está jugando.\")\n",
    "            self.energia -= 20\n",
    "            self.hambre = True\n",
    "        else:\n",
    "            print(f\"{self.nombre} está muy cansado para jugar.\")\n",
    "    \n",
    "    def dormir(self):\n",
    "        print(f\"{self.nombre} está durmiendo.\")\n",
    "        self.energia = 100\n",
    "        self.hambre = True\n",
    "\n",
    "    def estado(self):\n",
    "        hambre_str = \"sí\" if self.hambre else \"no\"\n",
    "        print(f\"{self.nombre} tiene {self.edad} años.\")\n",
    "        print(f\"Energía: {self.energia}\")\n",
    "        print(f\"¿Tiene hambre?: {hambre_str}\")\n"
   ]
  },
  {
   "cell_type": "code",
   "execution_count": null,
   "id": "fa723065-0b7a-41f8-bedd-f1a2dce8b8aa",
   "metadata": {},
   "outputs": [],
   "source": [
    "firulais = Perro(\"Firulais\", 4)\n",
    "\n",
    "firulais.estado()\n",
    "firulais.comer(\"croquetas\")\n",
    "firulais.estado()\n",
    "firulais.jugar()\n",
    "firulais.estado()\n",
    "firulais.comer(\"pollo\")  # No debería comer si no tiene hambre\n",
    "firulais.dormir()\n",
    "firulais.comer(\"hueso\")\n",
    "firulais.estado()\n",
    "\n"
   ]
  },
  {
   "cell_type": "markdown",
   "id": "3fe0cea8-74f0-459b-814c-beb8ed7bb7ea",
   "metadata": {},
   "source": [
    "## Herencia\n",
    "\n",
    "En POO, herencia significa que una clase puede heredar atributos y métodos de otra clase. Esto permite reutilizar código y extender funcionalidades.\n",
    "\n",
    "Ahora creamos una nueva clase que hereda de ``Perro``. Además de lo que ya hace un perro normal, puede asistir a una persona (si tiene suficiente energía)."
   ]
  },
  {
   "cell_type": "code",
   "execution_count": null,
   "id": "ca87d24c-05e1-417a-8e3e-246e6d47b95a",
   "metadata": {},
   "outputs": [],
   "source": [
    "class PerroDeServicio(Perro):\n",
    "    def __init__(self, nombre, edad, persona_asignada):\n",
    "        super().__init__(nombre, edad)\n",
    "        self.persona_asignada = persona_asignada\n",
    "\n",
    "    def asistir(self):\n",
    "        if self.energia >= 40:\n",
    "            print(f\"{self.nombre} está asistiendo a {self.persona_asignada}.\")\n",
    "            self.energia -= 40\n",
    "            self.hambre = True\n",
    "        else:\n",
    "            print(f\"{self.nombre} no tiene suficiente energía para asistir.\")\n",
    "    \n",
    "    def estado(self):\n",
    "        super().estado()\n",
    "        print(f\"Persona asignada: {self.persona_asignada}\")\n"
   ]
  },
  {
   "cell_type": "code",
   "execution_count": null,
   "id": "1e201e77-0a13-4568-9002-cefde1593ca9",
   "metadata": {},
   "outputs": [],
   "source": [
    "buddy = PerroDeServicio(\"Buddy\", 5, \"Ana\")\n",
    "\n",
    "buddy.estado()\n",
    "buddy.asistir()\n",
    "buddy.estado()\n",
    "buddy.dormir()\n",
    "buddy.asistir()\n",
    "buddy.estado()\n"
   ]
  }
 ],
 "metadata": {
  "kernelspec": {
   "display_name": "Python [conda env:base] *",
   "language": "python",
   "name": "conda-base-py"
  },
  "language_info": {
   "codemirror_mode": {
    "name": "ipython",
    "version": 3
   },
   "file_extension": ".py",
   "mimetype": "text/x-python",
   "name": "python",
   "nbconvert_exporter": "python",
   "pygments_lexer": "ipython3",
   "version": "3.12.3"
  }
 },
 "nbformat": 4,
 "nbformat_minor": 5
}
