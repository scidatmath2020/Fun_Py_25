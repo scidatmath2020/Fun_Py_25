{
 "cells": [
  {
   "cell_type": "markdown",
   "id": "7b429062-eac3-4b86-99aa-3b8c05f9bb6e",
   "metadata": {},
   "source": [
    "![imagenes](logo.png)"
   ]
  },
  {
   "cell_type": "markdown",
   "id": "ed997648-f9dc-45d3-a5e9-7c2e583be955",
   "metadata": {},
   "source": [
    "# DAX\n",
    "\n",
    "Las funciones de DAX se clasifican en las siguientes categorías:\n",
    "\n",
    "<img src=\"im092.png\" style=\"display:block; margin:auto;\" width=\"2000\">"
   ]
  },
  {
   "cell_type": "markdown",
   "id": "aff75c68-2c6c-4928-809c-8b9c67350851",
   "metadata": {},
   "source": [
    "## Funciones matemáticas y estadísticas\n",
    "\n",
    "La forma más natural de iniciarse en el manejo de funciones DAX es mediante las funciones matemáticas y estadísticas. Las más importantes, como siempre, son ``SUM``, ``AVERAGE``, ``MAX``, ``MIN`` y, en este caso, también se cuenta con ``DIVIDE``. Esta última permite realizar una división segura; es decir, evita errores cuando el divisor es cero o está en blanco.\n",
    "\n",
    "No olvides la buena práctica de tener una **Tabla de medidas**. \n",
    "\n",
    "### Funciones de conteo\n",
    "\n",
    "Entre las funciones matemáticas y estadísticas, hay una colección de funciones especiales que nos permiten realizar conteos: ``COUNT``, ``COUNTA``, ``COUNTROWS`` y ``DISTINCTCOUNT``:\n",
    "\n",
    "- ``COUNT`` cuenta los valores numéricos de una columna. No toma en cuenta ningún otro valor (tampoco los vacíos)\n",
    "- ``COUNTA`` cuenta los valores no vacíos de una columna.\n",
    "- ``COUNTROWS`` cuenta las filas de una tabla.\n",
    "- ``DISTINCTCOUNT`` cuenta cuántos valores diferentes hay en una columna.\n",
    "\n",
    "**Ejemplo 1. Medidas construidas con funciones matemáticas**\n",
    "\n",
    "<img src=\"im093.png\" style=\"display:block; margin:auto;\" width=\"1000\">"
   ]
  },
  {
   "cell_type": "markdown",
   "id": "cd66d7a1-1453-4fbb-801e-44113eb8e809",
   "metadata": {},
   "source": [
    "**Actividad 12.01**\n",
    "\n",
    "<img src=\"im094.png\" style=\"display:block; margin:auto;\" width=\"600\">"
   ]
  },
  {
   "cell_type": "markdown",
   "id": "d25d197e-bf91-4186-bd8c-5fe25a538e60",
   "metadata": {},
   "source": [
    "## Medidas totales en DAX\n",
    "\n",
    "Antes de continuar con nuestro estudio de funciones, volvamos al **Ejemplo 1** anterior. Observa la columna de Transacciones totales. ¿Notas algo raro?\n",
    "\n",
    "Aparentemente hay una discordancia entre las transacciones de venta *total* y las transacciones de venta segregada por categoría. Esto se debe a la manera en que DAX gestiona las medidas totales.\n",
    "\n",
    "Observemos el número de orden SO74144:\n",
    "\n",
    "<img src=\"im113.png\" style=\"display:block; margin:auto;\" width=\"800\">\n"
   ]
  },
  {
   "cell_type": "markdown",
   "id": "7d9d821f-4b26-4c45-b890-f140791395e2",
   "metadata": {},
   "source": [
    "Dicha orden consta de una bicicleta y un casco, los cuales pertenecen a las categorías de Bicicletas y Accesorios, respectivamente.\n",
    "\n",
    "Cuando queremos calcular el total de transacciones de venta, esa orden cuenta como una única orden (obviamente, formada por dos artículos). Pero cuando incluímos la segregación por categoría, la misma orden se cuenta una tanto en Bicicletas como en Accesorios. Por esta razón es que la suma del total de transacciones de venta segregada por categorías no cuadra con el total de transacciones de venta sin desagregar.\n",
    "\n",
    "Esto se debe a la manera en que DAX gestiona las medidas de tipo total: **el cálculo se realiza independientemente del contexto.**\n",
    "\n",
    "En este caso, la interpretación correcta de la columna de transacciones de venta segregada por categorías es la siguiente:\n",
    "\n",
    "- Se realizaron 25,164 transacciones de venta diferentes.\n",
    "- De las 25,164 transacciones de venta, en 16,983 estuvo involucrado algún artículo de tipo bicicleta.\n",
    "- De las 25,164 transacciones de venta, en 13,929 estuvo involucrado algún artículo de tipo ropa.\n",
    "- De las 25,164 transacciones de venta, en 6,976 estuvo involucrado algún artículo de tipo accesorio."
   ]
  },
  {
   "cell_type": "markdown",
   "id": "4711653e-d121-483e-bae6-5593a7e968d5",
   "metadata": {},
   "source": [
    "## Funciones lógicas\n",
    "\n",
    "<img src=\"im095.png\" style=\"display:block; margin:auto;\" width=\"800\">"
   ]
  },
  {
   "cell_type": "markdown",
   "id": "5a9d2228-e079-4b66-aee3-bce1d3f6fa73",
   "metadata": {},
   "source": [
    "**Ejemplo 02. Columna calculada con funciones lógicas**\n",
    "\n",
    "Una columna que indica si el cliente es padre o no.\n",
    "\n",
    "<img src=\"im096.png\" style=\"display:block; margin:auto;\" width=\"1000\">"
   ]
  },
  {
   "cell_type": "markdown",
   "id": "d330bee0-338c-4a44-b92a-70ee2f33b4ab",
   "metadata": {},
   "source": [
    "**Ejemplo 03. Columna calculada con funciones lógicas**\n",
    "\n",
    "Una columna que indica el número de mes del año.\n",
    "\n",
    "<img src=\"im097.png\" style=\"display:block; margin:auto;\" width=\"1000\">"
   ]
  },
  {
   "cell_type": "markdown",
   "id": "f02251e3-4165-4668-8323-fcd639bbf6eb",
   "metadata": {},
   "source": [
    "**Ejemplo 04. Uso especial de SWITCH**\n",
    "\n",
    "Supongamos que queremos agregar una columna ``Price Point`` a la tabla de **Productos** que me diga si un producto es de alta, media o baja gama dependiendo de su precio:\n",
    "\n",
    "- **Gama Alta:** si el precio de venta es $>\\,500$.\n",
    "- **Gama Media:** si el precio de venta es $>\\,100$.\n",
    "- **Gama Baja:** en cualquier otro caso.\n",
    "\n",
    "Observa el siguiente código. \n",
    "\n",
    "<img src=\"im098.png\" style=\"display:block; margin:auto;\" width=\"1000\">"
   ]
  },
  {
   "cell_type": "markdown",
   "id": "0ac43def-e2f3-43f7-b04e-1f221c0d3727",
   "metadata": {},
   "source": [
    "Como puedes ver, hay un problema con ``SWICHT``: la sintaxis general de esta función es \n",
    "\n",
    "``SWITCH(<expresión>, <valor1>, <resultado1>, <valor2>, <resultado2>, ..., <valor_else>)``\n",
    "\n",
    "Lo que hace es:\n",
    "\n",
    "- Ver si la ``<expresión>`` **es igual** a ``<valor1>``; en caso de serlo, devuelve ``<resultado1>``;\n",
    "- en caso de no serlo, mirará si la ``<expresión>`` **es igual** a ``<valor2>``; en caso de serlo, devuelve ``<resultado2>``;\n",
    "- en caso de no serlo, mirará si la ``<expresión>`` **es igual** a ``<valor3>``;\n",
    "- ...\n",
    "- Si ``<expresión>`` **no es igual** a ningún ``<valor>``, devuelve ``<valor_else>)``.\n",
    "\n"
   ]
  },
  {
   "cell_type": "markdown",
   "id": "c28bf019-1b82-4962-8025-27b3e3714399",
   "metadata": {},
   "source": [
    "Por lo tanto, para resolver nuestro problema debemos *engañar* a ``SWITCH``. Para ello, utilizamos el valor ``TRUE()`` de la siguiente manera:\n",
    "\n",
    "``SWITCH(TRUE(), <expresión1>, <resultado1>, <expresión2>, <resultado2>, ..., <valor_else>)``\n",
    "\n",
    "Así, siguiendo la lógica de ``SWITCH``, lo que hace es:\n",
    "\n",
    "- Ver si la ``<expresión1>`` **es verdadera**; en caso de serlo, devuelve ``<resultado1>``;\n",
    "- en caso de no serlo, mirará si la ``<expresión2>`` **es verdadera**; en caso de serlo, devuelve ``<resultado2>``;\n",
    "- en caso de no serlo, mirará si la ``<expresión3>`` **es verdadera** a ``<valor3>``;\n",
    "- ...\n",
    "- Si ninguna ``<expresión>`` **es verdadera**, devuelve ``<valor_else>)``.\n"
   ]
  },
  {
   "cell_type": "markdown",
   "id": "3c1240e6-96f4-4fa0-a2a7-6cff2f128677",
   "metadata": {},
   "source": [
    "<img src=\"im099.png\" style=\"display:block; margin:auto;\" width=\"1000\">"
   ]
  },
  {
   "cell_type": "markdown",
   "id": "63cadba2-4366-4417-9ddb-c285859205c5",
   "metadata": {},
   "source": [
    "**Actividad 12.02**\n",
    "\n",
    "<img src=\"im100.png\" style=\"display:block; margin:auto;\" width=\"600\">\n",
    "\n",
    "**Indicaciones.**\n",
    "\n",
    "1. Crea una columna calculada en la tabla de **Clientes** llamada ``Customer Priority`` de la siguiente manera:\n",
    "   - Si el cliente es padre y tiene una ganancia anual (``AnnualIncome``) mayor a $100,000, su prioridad es ``Priority``\n",
    "   - En caso contrario, su prioridad es ``Standard``"
   ]
  },
  {
   "cell_type": "markdown",
   "id": "54e55304-4ee8-434d-a912-ec124ef7784a",
   "metadata": {},
   "source": [
    "2. Crea una columna calculada en la tabla de **Clientes** llamada ``Income Level`` de la siguiente manera:\n",
    "    - Si la ganancia anual del cliente es $\\ge$ \\$150,000, su nivel de ganancia es ``Very High``.\n",
    "    - Si la ganancia anual del cliente es $\\ge$ \\$100,000, su nivel de ganancia es ``High``.\n",
    "    - Si la ganancia anual del cliente es $\\ge$ \\$50,000, su nivel de ganancia es ``Average``.\n",
    "    - En otro caso, su nivel de ganancia es ``Low``."
   ]
  },
  {
   "cell_type": "markdown",
   "id": "5eee9739-1612-45d2-8623-ab92fad9a649",
   "metadata": {},
   "source": [
    "3. Crea una columna calculada en la tabla de **Clientes** llamada ``Education Category`` de la siguiente manera:\n",
    "    - Si el nivel educativo (``EducationLevel``) es ``High School`` o ``Partial High School``, su categoría de educación será ``High School``.\n",
    "    - Si el nivel educativo es ``Bachelors`` o ``Partial College``, su categoría de educación será ``Undergrad``.\n",
    "    - Si el nivel educativo es ``Graduate Degree``, su categoría de educación será ``Graduate``."
   ]
  },
  {
   "cell_type": "markdown",
   "id": "4f1f6282-f369-4a88-8154-5910ec44017e",
   "metadata": {},
   "source": [
    "## Funciones de texto\n",
    "\n",
    "De nuevo, esta es una serie de funciones que tienen mucha similitud con Excel.\n",
    "\n",
    "<img src=\"im101.png\" style=\"display:block; margin:auto;\" width=\"800\">"
   ]
  },
  {
   "cell_type": "markdown",
   "id": "8ced3300-1917-4bd2-9722-5f6fe4a01f18",
   "metadata": {},
   "source": [
    "**Ejemplo 5. Columna calculada con función de texto**\n",
    "\n",
    "Una columna que indica el nombre completo de un cliente.\n",
    "\n",
    "<img src=\"im102.png\" style=\"display:block; margin:auto;\" width=\"1000\">"
   ]
  },
  {
   "cell_type": "markdown",
   "id": "4464b927-f81c-4dc9-9a8a-435944cb3adc",
   "metadata": {},
   "source": [
    "**Ejemplo 6. Columna calculada con función de texto**\n",
    "\n",
    "Una columna que indica el nombre abreviado de cada mes.\n",
    "\n",
    "<img src=\"im103.png\" style=\"display:block; margin:auto;\" width=\"1000\">"
   ]
  },
  {
   "cell_type": "markdown",
   "id": "3cf89ef2-e21a-4a0f-88b4-ff1a92c6883e",
   "metadata": {},
   "source": [
    "**Actividad 12.03**\n",
    "\n",
    "<img src=\"im104.png\" style=\"display:block; margin:auto;\" width=\"600\">\n",
    "\n"
   ]
  },
  {
   "cell_type": "markdown",
   "id": "285b9bd7-8c1b-4efe-99d0-c4297d93a860",
   "metadata": {},
   "source": [
    "**Resultados esperados.**\n",
    "\n",
    "<img src=\"im105.png\" style=\"display:block; margin:auto;\" width=\"1300\">\n",
    "\n",
    "**MUY IMPORTANTE.** Para la parte 2, el primer guión siempre está en la posición 3 de la columna ``ProductoSKU`` **para esta tabla en específico**. Pero la idea de este ejercicio es que seas capaz de extraer la información previa a ese primer guión sin importar su posición. Por lo tanto requerirás dos funciones: ``SEARCH`` y ``LEFT``.\n",
    "\n",
    "Recuerda que la sintaxis es \n",
    "\n",
    "- ``SEARCH(<Texto que vas a buscar>,<Columna de textos donde lo vas a buscar>)`` y te va a devolver el número de posición donde encuentra el ``<Texto que vas a buscar>`` (en el caso de **esta tabla en particular eso siempre es 3**).\n",
    "\n",
    "- ``LEFT(<Columna donde vas a extraer el texto>,<n>)`` y te va a devoler los primeros ``<n>`` caracteres desde la izquierda hacia la derecha."
   ]
  },
  {
   "cell_type": "markdown",
   "id": "1e39fad7-898a-4ab9-8115-01205aa4e062",
   "metadata": {},
   "source": [
    "## Funciones de fecha y hora\n",
    "\n",
    "<img src=\"im106.png\" style=\"display:block; margin:auto;\" width=\"800\">"
   ]
  },
  {
   "cell_type": "markdown",
   "id": "7bc8b724-688c-424e-9663-18d50da10b64",
   "metadata": {},
   "source": [
    "Observa que ``TODAY()`` Y ``NOW()`` no requieren argumento.\n",
    "\n",
    "Por su parte, ``WEEKDAY`` acepta un segundo parámetro, de modo que su sintaxis completa es ``WEEKDAY(Fecha,n)`` donde:\n",
    "- Si ``n`` es 1 (valor por defecto), toma a domingo como inicio de semana (domingo = 1)\n",
    "- Si ``n`` es 2, toma a lunes como inicio de semana (lunes = 1)\n",
    "\n",
    "Además, ``EOMONTH`` (*end of month*) acepta culquier tipo de número entero para el argumento ``Months``: si ``Months`` es 0, te dará la fecha del último día del mes de la fecha ``StarDate``; si ``Months`` es -1, te dará la fecha del último día del mes del mes previo a la fecha ``StarDate``; si ``Months`` es 1, te dará la fecha del último día del mes del mes posterior a la fecha ``StarDate``; etcétera."
   ]
  },
  {
   "cell_type": "markdown",
   "id": "d67d16f4-f1c5-42b1-a120-f8f91ad32b8b",
   "metadata": {},
   "source": [
    "**Ejemplo 7. Columna calculada con función de tiempo**\n",
    "\n",
    "Una columna que calcula el número de día de la semana de una fecha, tomando lunes como inicio de semana.\n",
    "\n",
    "<img src=\"im107.png\" style=\"display:block; margin:auto;\" width=\"1000\">"
   ]
  },
  {
   "cell_type": "markdown",
   "id": "1ac9ae70-d148-4605-b219-b08eb55c7de5",
   "metadata": {},
   "source": [
    "**Ejemplo 8. Columna calculada con función de tiempo y operador ``in``**\n",
    "\n",
    "Una columna que indica si una fecha es fin de semana o no.\n",
    "\n",
    "<img src=\"im108.png\" style=\"display:block; margin:auto;\" width=\"1000\">\n"
   ]
  },
  {
   "cell_type": "markdown",
   "id": "0d673812-2f08-48a6-9a23-1bb8a529c56b",
   "metadata": {},
   "source": [
    "**Ejemplo 9. Columna calculada con función de tiempo**\n",
    "\n",
    "Una columna que me diga cuántos días faltan para la fecha de cumpleaños de cada cliente. Se utilizará la función especial ``DATE`` cuya sintaxis es ``DATE(año,mes,día)``.\n",
    "\n",
    "<img src=\"im109.png\" style=\"display:block; margin:auto;\" width=\"1000\">"
   ]
  },
  {
   "cell_type": "markdown",
   "id": "b6a0322f-30bb-4311-955a-df285a4528dc",
   "metadata": {},
   "source": [
    "**Actividad 12.04**\n",
    "\n",
    "<img src=\"im110.png\" style=\"display:block; margin:auto;\" width=\"600\">"
   ]
  },
  {
   "cell_type": "markdown",
   "id": "af54721f-0d37-494d-890a-74e86a4a1d66",
   "metadata": {},
   "source": [
    "**Resultados esperados.**\n",
    "\n",
    "<img src=\"im111.png\" style=\"display:block; margin:auto;\" width=\"1300\">"
   ]
  },
  {
   "cell_type": "markdown",
   "id": "cf922355-d1c0-41e2-84c7-e0ea4f18983d",
   "metadata": {},
   "source": [
    "## Fusión de tablas con ``RELATED``\n",
    "\n",
    "Llegado a este punto, puede que hayas notado que todas las funciones estudiadas hasta este momento son bastante intuitivas. Vamos a explorar ahora algunas funciones DAX más avanzadas. La primera de ellas es ``RELATED``.\n",
    "\n",
    "``RELATED`` por sí sola es muy sencilla. Se utiliza para traer un valor desde una **tabla relacionada**. Es muy parecida a un ``BUSCARV`` de Excel, o a un ``JOIN`` en SQL, pero específicamente para modelos de datos en Power BI donde ya tienes relaciones definidas entre tablas. Solo puedes usar ``RELATED`` cuando existe una relación de uno a muchos. Es decir: **estás en la tabla de muchos y traes datos desde la tabla de uno**.\n",
    "\n",
    "Su sintaxis es ``RELATED(columna de la información deseada)``.\n",
    "\n",
    "Como dijimos, su comportamiento es muy parecido a ``BUSCARV`` de Excel. Utiliza la relación que hemos creado entre las tablas mediante las llaves primarias y foráneas. Y por esta razón es más sencillo que ``BUSCARV`` porque no necesitamos definir el valor de búsqueda o el tipo de coincidencia, ya que básicamente en ``BUSCARV`` se escriben explícitamente las llaves de conexión.\n",
    "\n",
    "Ahora bien, toma en cuenta que el llevar la información de una tabla a otra dentro de los modelos contradice nuestra regla de normalización, pues dijimos que no queremos tener información redundante. Por lo tanto, **no abuses del uso de ``RELATED``, y mejor intenta utilizarla dentro anidada con otras funciones**."
   ]
  },
  {
   "cell_type": "markdown",
   "id": "4b149ea7-e242-4932-85a8-be886225c492",
   "metadata": {},
   "source": [
    "**Ejemplo 10. Columnas calculadas con ``RELATED``**\n",
    "\n",
    "Una columna que me diga cuánto ha gastado cada cliente en mi tienda.\n",
    "\n",
    "<img src=\"im112.png\" style=\"display:block; margin:auto;\" width=\"1000\">"
   ]
  },
  {
   "cell_type": "markdown",
   "id": "5cbde901-21ad-4007-aea1-256b5975e257",
   "metadata": {},
   "source": [
    "## Función ``CALCULATE``\n",
    "\n",
    "Hablemos ahora de ``CALCULATE``. Esta es, posiblemente, una de las funciones más importantes de todo DAX, no solo porque hace cosas bastante potentes, sino porque también sirve como un contenedor de para otras fórmulas DAX mucho más complejas. Básicamente, ``CALCULATE`` va a evaluar una expresión modificando el contexto.\n",
    "\n",
    "Su sintaxis es ``CALCULATE(expresión,filtro1,filtro2,...)`` donde\n",
    "\n",
    "- ``expresión`` es una medida o una fórmula de DAX que devuelva una medida.\n",
    "-  ``filtro1, filtro2,...`` es una lista de expresiones lógicas (verdaderos o falsos) que definen un filtro.\n",
    "\n",
    "Puedes pensar en ``CALCULATE`` como un modificador de filtros que te permite sustituir filtros existentes y forzar el uso de un nuevo contexto.\n"
   ]
  },
  {
   "cell_type": "markdown",
   "id": "1203498f-81b2-40b4-9534-33a64b853e47",
   "metadata": {},
   "source": [
    "**Ejemplo 11. Vista calculada con ``CALCULATE``**\n",
    "\n",
    "Una vista que me muestra cuántas transacciones de ventas se hicieron en fin de semana segregadas por categorías.\n",
    "\n",
    "<img src=\"im114.png\" style=\"display:block; margin:auto;\" width=\"800\">"
   ]
  },
  {
   "cell_type": "markdown",
   "id": "0db627ee-9e05-4985-aab1-419b71b5e7eb",
   "metadata": {},
   "source": [
    "Ahora bien, es muy importante entender el funcionamiento de ``CALCULATE``. Como dijimos antes, es un modificador de filtros que te permite sustituir filtros existentes y forzar el uso de un nuevo contexto.\n",
    "\n",
    "En el ejemplo anterior, el filtro al que estamos obligando es a que aplique la medida únicamente a las transacciones hechas en fin de semana. Por lo tanto toma como prioridad dicho filtro y se olvida del contexto original, el cual es segregar por accesorios. \n",
    "\n",
    "Para entenderlo de otra manera, volvamos a [C10_Modelos_relacionales_2](https://github.com/scidatmath2020/Fun_PBi_25/blob/main/C10_Modelos_relacionales_2.ipynb), **Sección Contexto y flujo Filtrados**. Recordarás que los problemas de contexto aparecen cuando lo tomamos desde una tabla de hechos y no desde la tabla de dimensiones.\n",
    "\n",
    "Pues bien, ``CALCULATE`` trabaja en esa misma lógica: al aplicar sus filtros se olvida del filtro original (el de la tabla de dimensiones) así que el único contexto que deja pasar es el propio:\n",
    "\n",
    "<img src=\"im115.png\" style=\"display:block; margin:auto;\" width=\"800\">\n"
   ]
  },
  {
   "cell_type": "markdown",
   "id": "3e935ba0-ea08-4cf1-b129-6a569b3da12a",
   "metadata": {},
   "source": [
    "En conclusión, puedes pensar en ``CALCULATE`` como una *metamedida*: una función que actúa sobre medidas para modificar sus filtros antes de evaluarlas, y así cambiar el contexto de evaluación para obtener resultados más específicos o controlados."
   ]
  },
  {
   "cell_type": "markdown",
   "id": "fa97662c-b52c-44fa-97a7-121f01efc96d",
   "metadata": {},
   "source": [
    "**Actividad 12.05**\n",
    "\n",
    "<img src=\"im116.png\" style=\"display:block; margin:auto;\" width=\"600\">"
   ]
  },
  {
   "cell_type": "markdown",
   "id": "14f6ad21-a453-4ace-99b9-42515ab83879",
   "metadata": {},
   "source": [
    "**Indicaciones**\n",
    "\n",
    "Utilizando ``CALCULATED`` para crear cada medida, resuelve:\n",
    "\n",
    "1. Crea una nueva medida llamada ``Bike Returns`` para calcular la cantidad total de bicicletas devueltas.\n",
    "\n",
    "2. Crea una matriz que muestre las Devoluciones de Bicicletas (como valores) por Inicio de Mes. ¿Qué notas sobre el volumen de devoluciones de bicicletas a lo largo del tiempo?\n",
    "\n",
    "3. Crea una nueva medida llamada ``Bike Sales`` para calcular la cantidad total de bicicletas vendidas y agrégala a la matriz. ¿Qué observas?\n",
    "\n",
    "4. Crea una nueva medida llamada ``Bike Return Rate`` y agrégala a la matriz.\n",
    "\n",
    "¿Cómo responderías a la preocupación del Vicepresidente de Producto sobre el aumento en las devoluciones de bicicletas?\n",
    "\n",
    "**Resultado esperado**\n",
    "\n",
    "<img src=\"im117.png\" style=\"display:block; margin:auto;\" width=\"300\">\n"
   ]
  },
  {
   "cell_type": "markdown",
   "id": "a0014ad1-44ac-416c-bbb3-e6b765c25874",
   "metadata": {},
   "source": [
    "## La función ``ALL``\n",
    "\n",
    "La función ``ALL`` se usa en DAX para eliminar todos los filtros aplicados a una o varias columnas o tablas. Por esta razón, es usado frecuentemente para el cálculo de porcentajes respecto de una medida de total."
   ]
  },
  {
   "cell_type": "markdown",
   "id": "52c080e1-d2d8-4cce-9e88-d979f6118512",
   "metadata": {},
   "source": [
    "**Ejemplo 12. Vista calculada con ``ALL``**\n",
    "\n",
    "Una vista que me muestra qué porcentaje de las transacciones de venta incluyó cada categoría.\n",
    "\n",
    "<img src=\"im118.png\" style=\"display:block; margin:auto;\" width=\"400\">"
   ]
  },
  {
   "cell_type": "markdown",
   "id": "ed1e0948-80d6-486b-b93b-645ae5c76b53",
   "metadata": {},
   "source": [
    "**Actividad 12.06**\n",
    "\n",
    "<img src=\"im119.png\" style=\"display:block; margin:auto;\" width=\"600\">"
   ]
  },
  {
   "cell_type": "markdown",
   "id": "95dffbaf-5897-4ea3-9243-7d4a81ba0fb8",
   "metadata": {},
   "source": [
    "**Indicaciones.**\n",
    "\n",
    "1. Crea una nueva medida llamada ``All Returns`` (total de devoluciones globales) para calcular el número total de devoluciones, sin importar el contexto de filtros.\n",
    "\n",
    "2. Crea una nueva medida llamada ``% of All Returns`` que divida el total de transacciones de devolución entre el total de devoluciones globales.\n",
    "\n",
    "3. Crea una matriz que muestre el % anterior segregado por nombre de categoría de producto (como filas).\n",
    "\n",
    "4. Qué categoría representa el mayor porcentaje de devoluciones? ¿Y cuál representa el menor?\n",
    "\n",
    "**Resultado esperado**\n",
    "\n",
    "<img src=\"im120.png\" style=\"display:block; margin:auto;\" width=\"300\">"
   ]
  },
  {
   "cell_type": "markdown",
   "id": "50d00643-c771-4f60-a6cf-961829fedd9d",
   "metadata": {},
   "source": [
    "## La función ``FILTER``\n",
    "\n",
    "Por definición, la función ``FILTER`` devuelve una tabla que representa una subtabla de alguna otra. Su sintaxis es bastante sencilla: ``FILTER(tabla,expresión lógica)``. \n",
    "\n",
    "Por lo tanto, ``FILTER`` pasa fila por fila una tabla y elimina o recorta aquellas filas que no cumplen con la condición lógica. Esta propiedad de pasar fila por fila es lo que se conoce como **función iteradora**. Un ejemplo de una función que **no** es iteradora es ``CALCULATE``.\n",
    "\n",
    "Así, tenemos una nota importante: ``FILTER`` es utilizado para añadir nuevos filtros de contexto y puede ser utilizado para manipular filtros más complejos que los que puede realizar ``CALCULATE``.\n",
    "\n",
    "Finalmente, como consejo general, ``FILTER`` puede llegar a ser lento; utilízalo únicamente cuando un simple ``CALCULATE`` no te sirva."
   ]
  },
  {
   "cell_type": "markdown",
   "id": "0a58221e-d5bd-45d6-8da0-4fee44d1e2e8",
   "metadata": {},
   "source": [
    "**Ejemplo 13. Vista calculada con ``FILTER``**\n",
    "\n",
    "Una vista cuántas transacciones de venta tuvieron un ticket de compra alto; es decir, mayor al ticket de compra promedio.\n",
    "\n",
    "<img src=\"im121.png\" style=\"display:block; margin:auto;\" width=\"400\">"
   ]
  },
  {
   "cell_type": "markdown",
   "id": "b11d1efb-891b-48b5-b9b9-a04bc7439d15",
   "metadata": {},
   "source": [
    "## Funciones iteradoras (X)\n",
    "\n",
    "Las funciones iteradores (o funciones X) nos permiten realizar ciclos a través de un determinado cálculo o expresión para cada fila dentro de una tabla, y luego aplicar algún tipo de agregación a los resultados.\n",
    "\n",
    "El ejemplo por excelencia de funciones iteradoras es ``SUMX``, cuya sintaxis es ``SUMX(Tabla,expresión)``. Lo que esta hará es aplicar la ``expresión`` a cada fila de la ``Tabla``, obteniendo así una \"columna calculada\", y de esta última va a **sumar** los resultados. En general, así es como trabajan las funciones X.\n",
    "\n"
   ]
  },
  {
   "cell_type": "markdown",
   "id": "5355322c-0817-47a1-a9e5-0270f815e061",
   "metadata": {},
   "source": [
    "**Ejemplo 14. Vista calculada con ``SUMX``**\n",
    "\n",
    "Recordemos que anteriormente habíamos construído las columnas calculadas ``Price`` y ``Revenue`` dentro de la tabla de **Ventas** a través de la función ``RELATED``:\n",
    "\n",
    "<img src=\"im122.png\" style=\"display:block; margin:auto;\" width=\"1000\">"
   ]
  },
  {
   "cell_type": "markdown",
   "id": "83daabb9-0feb-4791-b1e3-16dbf2065c65",
   "metadata": {},
   "source": [
    "Si quisiéramos ser más perfeccionistas, podríamos utilizar ``SUMX`` para evitar el uso de ``RELATED`` y así respetar el concepto de normalización.\n",
    "\n",
    "<img src=\"im123.png\" style=\"display:block; margin:auto;\" width=\"500\">\n"
   ]
  },
  {
   "cell_type": "markdown",
   "id": "70f8ab88-a69c-449c-9929-5ddb49f0560f",
   "metadata": {},
   "source": [
    "**Actividad 12.07**\n",
    "\n",
    "<img src=\"im124.png\" style=\"display:block; margin:auto;\" width=\"600\">"
   ]
  },
  {
   "cell_type": "markdown",
   "id": "8e89cefc-48ba-4a6b-ab0f-84afb7c88769",
   "metadata": {},
   "source": [
    "**Indicaciones.**\n",
    "\n",
    "1. Crea una nueva medida llamada ``Total Cost`` que multiplique las cantidades de pedido en la tabla **Ventas** por el costo del producto en la tabla **Productos**, y luego calcule la suma.\n",
    "\n",
    "2. Crea una nueva medida llamada ``Total Profit`` (ingresos menos costos); es decir, las ganancias netas.\n",
    "\n",
    "3. Crea una matriz que muestre las ganancia neta por año (como filas).\n",
    "\n",
    "4. ¿Cuánta ganancia ha obtenido AdventureWorks?\n",
    "\n",
    "**Resultado esperado**\n",
    "\n",
    "<img src=\"im125.png\" style=\"display:block; margin:auto;\" width=\"300\">"
   ]
  }
 ],
 "metadata": {
  "kernelspec": {
   "display_name": "Python [conda env:base] *",
   "language": "python",
   "name": "conda-base-py"
  },
  "language_info": {
   "codemirror_mode": {
    "name": "ipython",
    "version": 3
   },
   "file_extension": ".py",
   "mimetype": "text/x-python",
   "name": "python",
   "nbconvert_exporter": "python",
   "pygments_lexer": "ipython3",
   "version": "3.12.3"
  }
 },
 "nbformat": 4,
 "nbformat_minor": 5
}
