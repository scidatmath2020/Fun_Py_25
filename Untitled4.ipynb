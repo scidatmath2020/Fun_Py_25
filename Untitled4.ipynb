{
 "cells": [
  {
   "cell_type": "markdown",
   "id": "3510a819-5b9a-4f44-a3a4-4314083ec068",
   "metadata": {},
   "source": [
    "$A\\cup B$ es el conjunto formado por los elementos que están en $A$ **o** que están en $B$"
   ]
  },
  {
   "cell_type": "markdown",
   "id": "5627e156-f2fc-48a5-aa7a-8728c6511ca0",
   "metadata": {},
   "source": [
    "$A\\backslash B$ es el conjunto formado por los elementos que están en $A$ pero que no están en $B$. También se denota como $A-B$"
   ]
  },
  {
   "cell_type": "markdown",
   "id": "1fda3540-17c8-4789-ba2d-ded2e682b8a4",
   "metadata": {},
   "source": [
    "$A\\cap B$ es el conjunto formado por los elementos que están en $A$ **y** están en $B$"
   ]
  },
  {
   "cell_type": "markdown",
   "id": "a56c1840-a3b1-4c63-8b53-1f39007017ae",
   "metadata": {},
   "source": [
    "$A\\Delta B$ es $A\\cup B$ menos $A\\cap B$"
   ]
  },
  {
   "cell_type": "markdown",
   "id": "648f7db9-f912-4dd5-af59-7f2286b2d23f",
   "metadata": {},
   "source": [
    "Si $X$ es un conjunto y $P(X)$ es la familia de todos los subconjuntos de $X$, entonces la terna $$(P(X),\\Delta,\\cap)$$ tiene una estructura de anillo conmutativo con unidad (la unidad es $X$)"
   ]
  },
  {
   "cell_type": "markdown",
   "id": "7da3d64b-640e-4c81-9dcb-8d7bf7e07493",
   "metadata": {},
   "source": [
    "$A,B$ entonces $A+B:=A\\Delta B$ y $AB=A\\cap B$"
   ]
  },
  {
   "cell_type": "markdown",
   "id": "4d538647-f409-46b6-9959-ab81ef5c71c5",
   "metadata": {},
   "source": [
    "El cero es $\\emptyset$"
   ]
  },
  {
   "cell_type": "markdown",
   "id": "7f6deb19-ba08-4612-8e69-949b3613b6c8",
   "metadata": {},
   "source": [
    "$A+A=A\\Delta A=\\emptyset$ es decir, $2A=\\emptyset$ o bien, $-A=A$"
   ]
  },
  {
   "cell_type": "code",
   "execution_count": null,
   "id": "4495f96a-42c3-4a5f-a380-688fa6c2cbfc",
   "metadata": {},
   "outputs": [],
   "source": []
  }
 ],
 "metadata": {
  "kernelspec": {
   "display_name": "Python [conda env:base] *",
   "language": "python",
   "name": "conda-base-py"
  },
  "language_info": {
   "codemirror_mode": {
    "name": "ipython",
    "version": 3
   },
   "file_extension": ".py",
   "mimetype": "text/x-python",
   "name": "python",
   "nbconvert_exporter": "python",
   "pygments_lexer": "ipython3",
   "version": "3.12.3"
  }
 },
 "nbformat": 4,
 "nbformat_minor": 5
}
